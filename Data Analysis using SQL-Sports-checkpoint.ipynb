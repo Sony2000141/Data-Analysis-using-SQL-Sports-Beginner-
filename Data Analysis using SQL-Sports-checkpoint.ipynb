{
 "cells": [
  {
   "cell_type": "markdown",
   "id": "8362cde1",
   "metadata": {},
   "source": [
    "# Data Analysis using SQL"
   ]
  },
  {
   "cell_type": "markdown",
   "id": "ef3bf924",
   "metadata": {},
   "source": [
    "I've used a dataset from Kaggle (https://www.kaggle.com/code/dimarudov/data-analysis-using-sql/input). This dataset is in SQL format and contains 7 tables: 'Country', 'League', 'Match', 'Player', 'Player_Attributes', 'Team', and 'Team_Attributes'.\n",
    "\n",
    "Basic Introduction:\n",
    "SQL, or Structured Query Language, is not only a powerful programming language but also a way of thinking about and organizing data. It is widely used in the field of data analysis because it supports easy data manipulation. SQL is an easy-to-learn, well-established language and benefits from a large and active community of users who can provide support and resources.\n",
    "\n",
    "I have completed a few courses in SQL from Udemy and IBM, but I believe the most important learning begins when you start practicing on your own. These are the first few steps I have taken.\n",
    "\n",
    "With this dataset, I have conducted some basic data analysis and attempted to answer a few questions:\n",
    "\n",
    "1) How many matches has each country played?\n",
    "2) How many goals did each team score?\n",
    "3) Who are the top 10 players with the highest overall rating?\n",
    "4) Which attributes most strongly influence a player’s overall rating?\n",
    "5) How have player ratings evolved over the years? \n",
    "6) How does the home team win rate compare to the away team win rate?"
   ]
  },
  {
   "cell_type": "code",
   "execution_count": 76,
   "id": "ad348e19",
   "metadata": {},
   "outputs": [],
   "source": [
    "#importing necessary libraries\n",
    "import sqlite3\n",
    "import pandas as pd\n",
    "import numpy as np\n",
    "import matplotlib.pyplot as plt\n",
    "import seaborn as sns"
   ]
  },
  {
   "cell_type": "code",
   "execution_count": 77,
   "id": "00a45e1e",
   "metadata": {},
   "outputs": [
    {
     "data": {
      "text/html": [
       "<div>\n",
       "<style scoped>\n",
       "    .dataframe tbody tr th:only-of-type {\n",
       "        vertical-align: middle;\n",
       "    }\n",
       "\n",
       "    .dataframe tbody tr th {\n",
       "        vertical-align: top;\n",
       "    }\n",
       "\n",
       "    .dataframe thead th {\n",
       "        text-align: right;\n",
       "    }\n",
       "</style>\n",
       "<table border=\"1\" class=\"dataframe\">\n",
       "  <thead>\n",
       "    <tr style=\"text-align: right;\">\n",
       "      <th></th>\n",
       "      <th>name</th>\n",
       "    </tr>\n",
       "  </thead>\n",
       "  <tbody>\n",
       "    <tr>\n",
       "      <th>0</th>\n",
       "      <td>sqlite_sequence</td>\n",
       "    </tr>\n",
       "    <tr>\n",
       "      <th>1</th>\n",
       "      <td>Player_Attributes</td>\n",
       "    </tr>\n",
       "    <tr>\n",
       "      <th>2</th>\n",
       "      <td>Player</td>\n",
       "    </tr>\n",
       "    <tr>\n",
       "      <th>3</th>\n",
       "      <td>Match</td>\n",
       "    </tr>\n",
       "    <tr>\n",
       "      <th>4</th>\n",
       "      <td>League</td>\n",
       "    </tr>\n",
       "    <tr>\n",
       "      <th>5</th>\n",
       "      <td>Country</td>\n",
       "    </tr>\n",
       "    <tr>\n",
       "      <th>6</th>\n",
       "      <td>Team</td>\n",
       "    </tr>\n",
       "    <tr>\n",
       "      <th>7</th>\n",
       "      <td>Team_Attributes</td>\n",
       "    </tr>\n",
       "  </tbody>\n",
       "</table>\n",
       "</div>"
      ],
      "text/plain": [
       "                name\n",
       "0    sqlite_sequence\n",
       "1  Player_Attributes\n",
       "2             Player\n",
       "3              Match\n",
       "4             League\n",
       "5            Country\n",
       "6               Team\n",
       "7    Team_Attributes"
      ]
     },
     "execution_count": 77,
     "metadata": {},
     "output_type": "execute_result"
    }
   ],
   "source": [
    "#In order to connect the SQLite database to this jupyter environment, we will first replace the following path \n",
    "#with the path to your SQLite database file on your PC\n",
    "\n",
    "database_path = \"C:\\\\Users\\\\Sony\\\\Documents\\\\database.sqlite\"\n",
    "\n",
    "# Connect to the SQLite database\n",
    "conn = sqlite3.connect(database_path)\n",
    "\n",
    "# Query to select all tables in the SQLite database\n",
    "query = \"SELECT name FROM sqlite_master WHERE type='table';\"\n",
    "\n",
    "# Execute the query and store the result in a pandas DataFrame\n",
    "tables = pd.read_sql_query(query, conn)\n",
    "\n",
    "# Display the DataFrame\n",
    "tables\n"
   ]
  },
  {
   "cell_type": "markdown",
   "id": "a4c7ca5b",
   "metadata": {},
   "source": [
    "Starting with our Analysis"
   ]
  },
  {
   "cell_type": "markdown",
   "id": "22d62c64",
   "metadata": {},
   "source": [
    "1. How many matches has each country played?"
   ]
  },
  {
   "cell_type": "code",
   "execution_count": 78,
   "id": "8221e662",
   "metadata": {},
   "outputs": [
    {
     "data": {
      "text/html": [
       "<div>\n",
       "<style scoped>\n",
       "    .dataframe tbody tr th:only-of-type {\n",
       "        vertical-align: middle;\n",
       "    }\n",
       "\n",
       "    .dataframe tbody tr th {\n",
       "        vertical-align: top;\n",
       "    }\n",
       "\n",
       "    .dataframe thead th {\n",
       "        text-align: right;\n",
       "    }\n",
       "</style>\n",
       "<table border=\"1\" class=\"dataframe\">\n",
       "  <thead>\n",
       "    <tr style=\"text-align: right;\">\n",
       "      <th></th>\n",
       "      <th>name</th>\n",
       "      <th>no_of_matches</th>\n",
       "    </tr>\n",
       "  </thead>\n",
       "  <tbody>\n",
       "    <tr>\n",
       "      <th>0</th>\n",
       "      <td>Belgium</td>\n",
       "      <td>1728</td>\n",
       "    </tr>\n",
       "    <tr>\n",
       "      <th>1</th>\n",
       "      <td>England</td>\n",
       "      <td>3040</td>\n",
       "    </tr>\n",
       "    <tr>\n",
       "      <th>2</th>\n",
       "      <td>France</td>\n",
       "      <td>3040</td>\n",
       "    </tr>\n",
       "    <tr>\n",
       "      <th>3</th>\n",
       "      <td>Germany</td>\n",
       "      <td>2448</td>\n",
       "    </tr>\n",
       "    <tr>\n",
       "      <th>4</th>\n",
       "      <td>Italy</td>\n",
       "      <td>3017</td>\n",
       "    </tr>\n",
       "    <tr>\n",
       "      <th>5</th>\n",
       "      <td>Netherlands</td>\n",
       "      <td>2448</td>\n",
       "    </tr>\n",
       "    <tr>\n",
       "      <th>6</th>\n",
       "      <td>Poland</td>\n",
       "      <td>1920</td>\n",
       "    </tr>\n",
       "    <tr>\n",
       "      <th>7</th>\n",
       "      <td>Portugal</td>\n",
       "      <td>2052</td>\n",
       "    </tr>\n",
       "    <tr>\n",
       "      <th>8</th>\n",
       "      <td>Scotland</td>\n",
       "      <td>1824</td>\n",
       "    </tr>\n",
       "    <tr>\n",
       "      <th>9</th>\n",
       "      <td>Spain</td>\n",
       "      <td>3040</td>\n",
       "    </tr>\n",
       "    <tr>\n",
       "      <th>10</th>\n",
       "      <td>Switzerland</td>\n",
       "      <td>1422</td>\n",
       "    </tr>\n",
       "  </tbody>\n",
       "</table>\n",
       "</div>"
      ],
      "text/plain": [
       "           name  no_of_matches\n",
       "0       Belgium           1728\n",
       "1       England           3040\n",
       "2        France           3040\n",
       "3       Germany           2448\n",
       "4         Italy           3017\n",
       "5   Netherlands           2448\n",
       "6        Poland           1920\n",
       "7      Portugal           2052\n",
       "8      Scotland           1824\n",
       "9         Spain           3040\n",
       "10  Switzerland           1422"
      ]
     },
     "execution_count": 78,
     "metadata": {},
     "output_type": "execute_result"
    }
   ],
   "source": [
    "#in order to know, how many matches each country has played,we will use COUNT function\n",
    "count_no_matches = pd.read_sql(\"\"\"SELECT c.name, COUNT(m.country_id) as no_of_matches \n",
    "                                    FROM Country c\n",
    "                                    JOIN Match m ON m.country_id = c.id\n",
    "                                    GROUP BY c.name; \"\"\", conn)\n",
    "\n",
    "count_no_matches"
   ]
  },
  {
   "cell_type": "markdown",
   "id": "3c7f2a12",
   "metadata": {},
   "source": [
    "2. How many goals did each team score?"
   ]
  },
  {
   "cell_type": "code",
   "execution_count": 79,
   "id": "672042e7",
   "metadata": {},
   "outputs": [
    {
     "data": {
      "text/html": [
       "<div>\n",
       "<style scoped>\n",
       "    .dataframe tbody tr th:only-of-type {\n",
       "        vertical-align: middle;\n",
       "    }\n",
       "\n",
       "    .dataframe tbody tr th {\n",
       "        vertical-align: top;\n",
       "    }\n",
       "\n",
       "    .dataframe thead th {\n",
       "        text-align: right;\n",
       "    }\n",
       "</style>\n",
       "<table border=\"1\" class=\"dataframe\">\n",
       "  <thead>\n",
       "    <tr style=\"text-align: right;\">\n",
       "      <th></th>\n",
       "      <th>team_long_name</th>\n",
       "      <th>home_goal</th>\n",
       "      <th>away_goal</th>\n",
       "      <th>total_goals</th>\n",
       "    </tr>\n",
       "  </thead>\n",
       "  <tbody>\n",
       "    <tr>\n",
       "      <th>0</th>\n",
       "      <td>1. FC Kaiserslautern</td>\n",
       "      <td>95</td>\n",
       "      <td>82</td>\n",
       "      <td>177</td>\n",
       "    </tr>\n",
       "    <tr>\n",
       "      <th>1</th>\n",
       "      <td>1. FC Köln</td>\n",
       "      <td>288</td>\n",
       "      <td>249</td>\n",
       "      <td>537</td>\n",
       "    </tr>\n",
       "    <tr>\n",
       "      <th>2</th>\n",
       "      <td>1. FC Nürnberg</td>\n",
       "      <td>259</td>\n",
       "      <td>203</td>\n",
       "      <td>462</td>\n",
       "    </tr>\n",
       "    <tr>\n",
       "      <th>3</th>\n",
       "      <td>1. FSV Mainz 05</td>\n",
       "      <td>361</td>\n",
       "      <td>278</td>\n",
       "      <td>639</td>\n",
       "    </tr>\n",
       "    <tr>\n",
       "      <th>4</th>\n",
       "      <td>AC Ajaccio</td>\n",
       "      <td>171</td>\n",
       "      <td>129</td>\n",
       "      <td>300</td>\n",
       "    </tr>\n",
       "    <tr>\n",
       "      <th>...</th>\n",
       "      <td>...</td>\n",
       "      <td>...</td>\n",
       "      <td>...</td>\n",
       "      <td>...</td>\n",
       "    </tr>\n",
       "    <tr>\n",
       "      <th>291</th>\n",
       "      <td>Xerez Club Deportivo</td>\n",
       "      <td>57</td>\n",
       "      <td>47</td>\n",
       "      <td>104</td>\n",
       "    </tr>\n",
       "    <tr>\n",
       "      <th>292</th>\n",
       "      <td>Zagłębie Lubin</td>\n",
       "      <td>240</td>\n",
       "      <td>199</td>\n",
       "      <td>439</td>\n",
       "    </tr>\n",
       "    <tr>\n",
       "      <th>293</th>\n",
       "      <td>Zawisza Bydgoszcz</td>\n",
       "      <td>94</td>\n",
       "      <td>70</td>\n",
       "      <td>164</td>\n",
       "    </tr>\n",
       "    <tr>\n",
       "      <th>294</th>\n",
       "      <td>Évian Thonon Gaillard FC</td>\n",
       "      <td>223</td>\n",
       "      <td>178</td>\n",
       "      <td>401</td>\n",
       "    </tr>\n",
       "    <tr>\n",
       "      <th>295</th>\n",
       "      <td>Śląsk Wrocław</td>\n",
       "      <td>356</td>\n",
       "      <td>249</td>\n",
       "      <td>605</td>\n",
       "    </tr>\n",
       "  </tbody>\n",
       "</table>\n",
       "<p>296 rows × 4 columns</p>\n",
       "</div>"
      ],
      "text/plain": [
       "               team_long_name  home_goal  away_goal  total_goals\n",
       "0        1. FC Kaiserslautern         95         82          177\n",
       "1                  1. FC Köln        288        249          537\n",
       "2              1. FC Nürnberg        259        203          462\n",
       "3             1. FSV Mainz 05        361        278          639\n",
       "4                  AC Ajaccio        171        129          300\n",
       "..                        ...        ...        ...          ...\n",
       "291      Xerez Club Deportivo         57         47          104\n",
       "292            Zagłębie Lubin        240        199          439\n",
       "293         Zawisza Bydgoszcz         94         70          164\n",
       "294  Évian Thonon Gaillard FC        223        178          401\n",
       "295             Śląsk Wrocław        356        249          605\n",
       "\n",
       "[296 rows x 4 columns]"
      ]
     },
     "execution_count": 79,
     "metadata": {},
     "output_type": "execute_result"
    }
   ],
   "source": [
    "#SUM function is used to add up the scores\n",
    "goals_counts = pd.read_sql(\"\"\"SELECT t.team_long_name, SUM(m.home_team_goal) as home_goal, SUM(m.away_team_goal) as away_goal, SUM(m.home_team_goal) + SUM(m.away_team_goal) as total_goals  \n",
    "                                FROM Team t \n",
    "                                JOIN Match m On  t.team_api_id = m.home_team_api_id OR t.team_api_id = m.away_team_api_id \n",
    "                                GROUP BY t.team_long_name; \"\"\", conn  )\n",
    "\n",
    "goals_counts"
   ]
  },
  {
   "cell_type": "markdown",
   "id": "911392c4",
   "metadata": {},
   "source": [
    "3. Who are the top 10 players with the highest overall rating? "
   ]
  },
  {
   "cell_type": "code",
   "execution_count": 80,
   "id": "911b67fe",
   "metadata": {},
   "outputs": [
    {
     "data": {
      "text/html": [
       "<div>\n",
       "<style scoped>\n",
       "    .dataframe tbody tr th:only-of-type {\n",
       "        vertical-align: middle;\n",
       "    }\n",
       "\n",
       "    .dataframe tbody tr th {\n",
       "        vertical-align: top;\n",
       "    }\n",
       "\n",
       "    .dataframe thead th {\n",
       "        text-align: right;\n",
       "    }\n",
       "</style>\n",
       "<table border=\"1\" class=\"dataframe\">\n",
       "  <thead>\n",
       "    <tr style=\"text-align: right;\">\n",
       "      <th></th>\n",
       "      <th>player_name</th>\n",
       "      <th>player_api_id</th>\n",
       "      <th>overall_ratings</th>\n",
       "    </tr>\n",
       "  </thead>\n",
       "  <tbody>\n",
       "    <tr>\n",
       "      <th>0</th>\n",
       "      <td>Danilo</td>\n",
       "      <td>143403</td>\n",
       "      <td>7894</td>\n",
       "    </tr>\n",
       "    <tr>\n",
       "      <th>1</th>\n",
       "      <td>Alex</td>\n",
       "      <td>150396</td>\n",
       "      <td>7118</td>\n",
       "    </tr>\n",
       "    <tr>\n",
       "      <th>2</th>\n",
       "      <td>Douglas</td>\n",
       "      <td>110147</td>\n",
       "      <td>6606</td>\n",
       "    </tr>\n",
       "    <tr>\n",
       "      <th>3</th>\n",
       "      <td>Felipe</td>\n",
       "      <td>101201</td>\n",
       "      <td>6452</td>\n",
       "    </tr>\n",
       "    <tr>\n",
       "      <th>4</th>\n",
       "      <td>Ricardo</td>\n",
       "      <td>24590</td>\n",
       "      <td>5883</td>\n",
       "    </tr>\n",
       "    <tr>\n",
       "      <th>5</th>\n",
       "      <td>Maicon</td>\n",
       "      <td>150041</td>\n",
       "      <td>5783</td>\n",
       "    </tr>\n",
       "    <tr>\n",
       "      <th>6</th>\n",
       "      <td>Fernando</td>\n",
       "      <td>101103</td>\n",
       "      <td>5687</td>\n",
       "    </tr>\n",
       "    <tr>\n",
       "      <th>7</th>\n",
       "      <td>Josue</td>\n",
       "      <td>163824</td>\n",
       "      <td>5600</td>\n",
       "    </tr>\n",
       "    <tr>\n",
       "      <th>8</th>\n",
       "      <td>Rafinha</td>\n",
       "      <td>242469</td>\n",
       "      <td>5500</td>\n",
       "    </tr>\n",
       "    <tr>\n",
       "      <th>9</th>\n",
       "      <td>Diego</td>\n",
       "      <td>19393</td>\n",
       "      <td>4884</td>\n",
       "    </tr>\n",
       "  </tbody>\n",
       "</table>\n",
       "</div>"
      ],
      "text/plain": [
       "  player_name  player_api_id  overall_ratings\n",
       "0      Danilo         143403             7894\n",
       "1        Alex         150396             7118\n",
       "2     Douglas         110147             6606\n",
       "3      Felipe         101201             6452\n",
       "4     Ricardo          24590             5883\n",
       "5      Maicon         150041             5783\n",
       "6    Fernando         101103             5687\n",
       "7       Josue         163824             5600\n",
       "8     Rafinha         242469             5500\n",
       "9       Diego          19393             4884"
      ]
     },
     "execution_count": 80,
     "metadata": {},
     "output_type": "execute_result"
    }
   ],
   "source": [
    "Top_10_players = pd.read_sql(\"\"\"SELECT p.player_name,p.player_api_id, SUM(pa.overall_rating) as overall_ratings\n",
    "                            FROM Player p\n",
    "                            JOIN  Player_Attributes pa ON p.player_api_id = pa.player_api_id\n",
    "                            GROUP BY p.player_name\n",
    "                            ORDER BY overall_ratings DESC\n",
    "                            LIMIT 10; \"\"\", conn)\n",
    "Top_10_players"
   ]
  },
  {
   "cell_type": "markdown",
   "id": "86cf5fc6",
   "metadata": {},
   "source": [
    "4. Which attributes most strongly influence a player’s overall rating? "
   ]
  },
  {
   "cell_type": "code",
   "execution_count": 81,
   "id": "cb0675d8",
   "metadata": {
    "scrolled": true
   },
   "outputs": [
    {
     "name": "stderr",
     "output_type": "stream",
     "text": [
      "C:\\Users\\Sony\\AppData\\Local\\Temp\\ipykernel_3892\\1383631451.py:10: FutureWarning: The default value of numeric_only in DataFrame.corr is deprecated. In a future version, it will default to False. Select only valid columns or specify the value of numeric_only to silence this warning.\n",
      "  correlations = attributes.corr()\n"
     ]
    },
    {
     "data": {
      "image/png": "[encoded data removed]",
      "text/plain": [
       "<Figure size 1000x800 with 1 Axes>"
      ]
     },
     "metadata": {},
     "output_type": "display_data"
    }
   ],
   "source": [
    "attributes = pd.read_sql(\"\"\"SELECT p.overall_rating, p.potential, p.preferred_foot, p.attacking_work_rate, p.defensive_work_rate,\n",
    "                        p.crossing, p.finishing, p.heading_accuracy, p.short_passing, p.volleys,\n",
    "                        p.dribbling, p.curve, p.free_kick_accuracy, p.long_passing, p.ball_control,\n",
    "                        p.acceleration, p.sprint_speed, p.agility, p.reactions, p.balance, p.shot_power,\n",
    "                        p.jumping, p.stamina, p.strength, p.long_shots, p.aggression, p.interceptions, p.positioning,\n",
    "                        p.vision, p.penalties, p.marking, p.standing_tackle, p.sliding_tackle, p.gk_diving,\n",
    "                        p.gk_handling, p.gk_kicking, p.gk_positioning, p.gk_reflexes\n",
    "                        FROM Player_Attributes p;\"\"\", conn)\n",
    "\n",
    "correlations = attributes.corr()\n",
    "overall_rating_corr = correlations['overall_rating'].sort_values(ascending = False)\n",
    "\n",
    "sns.set_style(\"darkgrid\")\n",
    "plt.figure(figsize= (10,8))\n",
    "overall_rating_corr.plot(kind ='bar')\n",
    "plt.title('Attributes influencing a player’s overall rating')\n",
    "plt.xlabel('Attributes')\n",
    "plt.ylabel('Correlation with overall rating')\n",
    "plt.show()\n"
   ]
  },
  {
   "cell_type": "markdown",
   "id": "99434077",
   "metadata": {},
   "source": [
    "5. How have player ratings evolved over the years? "
   ]
  },
  {
   "cell_type": "code",
   "execution_count": 82,
   "id": "8bd823c3",
   "metadata": {
    "scrolled": true
   },
   "outputs": [
    {
     "data": {
      "text/plain": [
       "Text(0.5, 1.0, 'Ratings evolved over the years')"
      ]
     },
     "execution_count": 82,
     "metadata": {},
     "output_type": "execute_result"
    },
    {
     "data": {
      "image/png": "[encoded data removed]",
      "text/plain": [
       "<Figure size 640x480 with 1 Axes>"
      ]
     },
     "metadata": {},
     "output_type": "display_data"
    }
   ],
   "source": [
    "ratings = pd.read_sql(\"\"\"SELECT STRFTIME('%Y', date) as Year, avg(overall_rating) as Avg_rating\n",
    "                        FROM Player_Attributes\n",
    "                        GROUP BY Year\n",
    "                        ORDER BY Year;\"\"\",conn)\n",
    "sns.lineplot(data=ratings, x=\"Year\", y=\"Avg_rating\")\n",
    "plt.title('Ratings evolved over the years')"
   ]
  },
  {
   "cell_type": "markdown",
   "id": "7aad5810",
   "metadata": {},
   "source": [
    "Explaination:\n",
    "As seen in the above graph, the player ratings have significantly grown over the years from 2007 to 2016."
   ]
  },
  {
   "cell_type": "markdown",
   "id": "abbc02d1",
   "metadata": {},
   "source": [
    "6. How does the home team win rate compare to the away team win rate?"
   ]
  },
  {
   "cell_type": "code",
   "execution_count": 86,
   "id": "5e5c4614",
   "metadata": {
    "scrolled": true
   },
   "outputs": [
    {
     "name": "stdout",
     "output_type": "stream",
     "text": [
      "   home_win_rate  away_win_rate\n",
      "0       0.458717       0.287386\n",
      "Home advantage in win rate is : 17.13%\n"
     ]
    }
   ],
   "source": [
    "win_rate = pd.read_sql(\"\"\"SELECT\n",
    "                      (SELECT COUNT(*) FROM Match WHERE home_team_goal > away_team_goal) * 1.0 / COUNT(*) AS home_win_rate,\n",
    "                      (SELECT COUNT(*) FROM Match WHERE away_team_goal > home_team_goal) * 1.0 / COUNT(*) AS away_win_rate\n",
    "                        FROM Match;\"\"\", conn)\n",
    "\n",
    "#SQL might round down the division to the nearest whole number, hence in order to avoid it we are multiplying it with 1.0\n",
    "\n",
    "print(win_rate)\n",
    "\n",
    "\n",
    "Home_advantage = win_rate['home_win_rate'] - win_rate['away_win_rate']\n",
    "print(f\"Home advantage in win rate is : {Home_advantage.values[0]:.2%}\")\n",
    "    "
   ]
  },
  {
   "cell_type": "code",
   "execution_count": null,
   "id": "0f1472b8",
   "metadata": {},
   "outputs": [],
   "source": []
  }
 ],
 "metadata": {
  "kernelspec": {
   "display_name": "Python 3 (ipykernel)",
   "language": "python",
   "name": "python3"
  },
  "language_info": {
   "codemirror_mode": {
    "name": "ipython",
    "version": 3
   },
   "file_extension": ".py",
   "mimetype": "text/x-python",
   "name": "python",
   "nbconvert_exporter": "python",
   "pygments_lexer": "ipython3",
   "version": "3.11.4"
  }
 },
 "nbformat": 4,
 "nbformat_minor": 5
}
